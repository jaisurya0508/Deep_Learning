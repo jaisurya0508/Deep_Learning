{
 "cells": [
  {
   "cell_type": "markdown",
   "metadata": {},
   "source": [
    "# <center>4.3 webcam Thresholding"
   ]
  },
  {
   "cell_type": "code",
   "execution_count": 1,
   "metadata": {},
   "outputs": [],
   "source": [
    "import cv2\n"
   ]
  },
  {
   "cell_type": "markdown",
   "metadata": {},
   "source": [
    "## video capture"
   ]
  },
  {
   "cell_type": "code",
   "execution_count": 10,
   "metadata": {},
   "outputs": [],
   "source": [
    "def main():\n",
    "    windowName= ['Binary','Binary_INV','Zero','Zero_inv','Trunc']\n",
    "    \n",
    "    cap=cv2.VideoCapture(0)\n",
    "    \n",
    "    if cap.isOpened():\n",
    "        ret, frame = cap.read()\n",
    "    else:\n",
    "        ret = False\n",
    "    \n",
    "    while ret:\n",
    "        ret, frame = cap.read()\n",
    "        th=127\n",
    "        max_val=255\n",
    "        ret,o1 = cv2.threshold(frame, th, max_val,cv2.THRESH_BINARY)\n",
    "        ret,o2 = cv2.threshold(frame, th, max_val,cv2.THRESH_BINARY_INV)\n",
    "        ret,o3 = cv2.threshold(frame, th, max_val,cv2.THRESH_TOZERO)\n",
    "        ret,o4 = cv2.threshold(frame, th, max_val,cv2.THRESH_TOZERO_INV)\n",
    "        ret,o5 = cv2.threshold(frame, th, max_val,cv2.THRESH_TRUNC)\n",
    "        \n",
    "        \n",
    "        cv2.imshow(windowName[0],o1)\n",
    "        cv2.imshow(windowName[1],o2)\n",
    "        cv2.imshow(windowName[2],o3)\n",
    "        cv2.imshow(windowName[3],o4)\n",
    "        cv2.imshow(windowName[4],o5)\n",
    "        cv2.waitKey(0)\n",
    "    cv2.destroyAllWindows()\n",
    "    cap.release()\n",
    "        "
   ]
  },
  {
   "cell_type": "code",
   "execution_count": null,
   "metadata": {},
   "outputs": [],
   "source": [
    "main()"
   ]
  },
  {
   "cell_type": "code",
   "execution_count": null,
   "metadata": {},
   "outputs": [],
   "source": []
  }
 ],
 "metadata": {
  "kernelspec": {
   "display_name": "Python 3",
   "language": "python",
   "name": "python3"
  },
  "language_info": {
   "codemirror_mode": {
    "name": "ipython",
    "version": 3
   },
   "file_extension": ".py",
   "mimetype": "text/x-python",
   "name": "python",
   "nbconvert_exporter": "python",
   "pygments_lexer": "ipython3",
   "version": "3.6.5"
  }
 },
 "nbformat": 4,
 "nbformat_minor": 2
}
